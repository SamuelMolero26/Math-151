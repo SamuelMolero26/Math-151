{
 "cells": [
  {
   "cell_type": "markdown",
   "id": "20c00fa5",
   "metadata": {
    "id": "20c00fa5"
   },
   "source": [
    "## MATH 151 Lab  9"
   ]
  },
  {
   "cell_type": "markdown",
   "id": "7c243ef1",
   "metadata": {
    "id": "7c243ef1"
   },
   "source": [
    "Samuel, Dylan and William"
   ]
  },
  {
   "cell_type": "code",
   "execution_count": 5,
   "id": "cf836732",
   "metadata": {
    "id": "cf836732"
   },
   "outputs": [],
   "source": [
    "from sympy import *\n",
    "from sympy.plotting import (plot,plot_parametric)\n",
    "import math"
   ]
  },
  {
   "cell_type": "markdown",
   "id": "3169990f",
   "metadata": {
    "id": "3169990f"
   },
   "source": [
    "### Question 1"
   ]
  },
  {
   "cell_type": "markdown",
   "id": "f0561a86",
   "metadata": {
    "id": "f0561a86"
   },
   "source": [
    "#### 1a"
   ]
  },
  {
   "cell_type": "code",
   "execution_count": 3,
   "id": "cbfab3f6",
   "metadata": {
    "id": "cbfab3f6"
   },
   "outputs": [
    {
     "name": "stdout",
     "output_type": "stream",
     "text": [
      "[-sqrt(3)*R/3, sqrt(3)*R/3] Since R is a constant that means you utilizes the postive critical point\n",
      "pi*R**2/12\n",
      "-2*pi*R**2/3\n",
      "Due to a point of the left being greater than zero and a point on the right being less than zero R is a maximum at R/sqrt(3)\n"
     ]
    }
   ],
   "source": [
    "#start code here\n",
    "R,h,r= symbols('R h r')\n",
    "\n",
    "V = (pi/3)*(R**2*h-h**3)\n",
    "dV= (pi/3)*(R**2-3*h**2)\n",
    "print(solve(dV,h),'Since R is a constant that means you utilizes the postive critical point')\n",
    "print(dV.subs(h,R/2))\n",
    "print(dV.subs(h,R))\n",
    "print('Due to a point of the left being greater than zero and a point on the right being less than zero R is a maximum at R/sqrt(3)')"
   ]
  },
  {
   "cell_type": "markdown",
   "id": "efdd616f",
   "metadata": {
    "id": "efdd616f"
   },
   "source": [
    "#### 1b"
   ]
  },
  {
   "cell_type": "code",
   "execution_count": 6,
   "id": "6fd5ac31",
   "metadata": {
    "id": "6fd5ac31"
   },
   "outputs": [
    {
     "name": "stdout",
     "output_type": "stream",
     "text": [
      "3.57880091575860\n",
      "5.24148278841779/pi**0.333333333333333\n",
      "2.68410030895834\n"
     ]
    }
   ],
   "source": [
    "#start code here\n",
    "V=(1/3)*(math.pi*r**2*h)\n",
    "r = sqrt(81/(h*math.pi))\n",
    "S = math.pi*(sqrt(81/(math.pi*h)))*sqrt(h**2+72/(math.pi*h))\n",
    "dS=diff(S,h)\n",
    "result = solve(Eq(dS, 0))\n",
    "print((result[0]))\n",
    "print(simplify(2*18**(1/3)/pi**(1/3)))\n",
    "print(r.subs(h,3.5788019233871))"
   ]
  },
  {
   "cell_type": "markdown",
   "id": "8b00f000",
   "metadata": {
    "id": "8b00f000"
   },
   "source": [
    "### Question 2"
   ]
  },
  {
   "cell_type": "code",
   "execution_count": 30,
   "id": "be2f2c71",
   "metadata": {
    "id": "be2f2c71"
   },
   "outputs": [
    {
     "name": "stdout",
     "output_type": "stream",
     "text": [
      "Total Area = Rectangle + 2(Triangle) =  h*w + 10*h\n",
      "Height =  10*sin(theta)\n",
      "Width =  10*cos(theta)\n",
      "Equation =  100*sin(theta)*cos(theta) + 100*sin(theta)\n",
      "Derivative =  -100*sin(theta)**2 + 100*cos(theta)**2 + 100*cos(theta)\n",
      "Equation in terms of cos =  -100*(cos(theta) + 1)*cos(theta) + 100*cos(theta)**2 + 100*cos(theta)\n",
      "The best theta to be chosen so that the gutter will carry the maximum amount of water is pi/3 or 60 degrees\n"
     ]
    }
   ],
   "source": [
    "#start code here\n",
    "theta=symbols(\"theta\")\n",
    "h=symbols(\"h\")\n",
    "w=symbols(\"w\")\n",
    "area=(10*h)+(w*h)\n",
    "print(\"Total Area = Rectangle + 2(Triangle) = \",area)\n",
    "height=10*sin(theta)\n",
    "width=10*cos(theta)\n",
    "print(\"Height = \",height)\n",
    "print(\"Width = \",width)\n",
    "eq=(10*height)+(width*height)\n",
    "print(\"Equation = \",eq)\n",
    "dif=diff(eq)\n",
    "print(\"Derivative = \",dif)\n",
    "restriction=dif\n",
    "sinInCos=solve(restriction,sin(theta))\n",
    "cosEQ=dif.subs(sin(theta),sinInCos[0])\n",
    "print(\"Equation in terms of cos = \",cosEQ)\n",
    "ans=solve(dif)\n",
    "print(\"The best theta to be chosen so that the gutter will carry the maximum amount of water is\",ans[1],\"or\",ans[1]*180/pi,\"degrees\")\n",
    "\n"
   ]
  },
  {
   "cell_type": "markdown",
   "id": "1fb8b9b8",
   "metadata": {
    "id": "1fb8b9b8"
   },
   "source": [
    "### Question 3"
   ]
  },
  {
   "cell_type": "markdown",
   "id": "5YAefjIP8rc1",
   "metadata": {
    "id": "5YAefjIP8rc1"
   },
   "source": [
    "#### 3a"
   ]
  },
  {
   "cell_type": "code",
   "execution_count": 163,
   "id": "UyzsGcQS8sTk",
   "metadata": {
    "id": "UyzsGcQS8sTk"
   },
   "outputs": [
    {
     "name": "stdout",
     "output_type": "stream",
     "text": [
      "the Position function of the first 3 seconds is: \n"
     ]
    },
    {
     "data": {
      "text/latex": [
       "$\\displaystyle C + 12 t^{3}$"
      ],
      "text/plain": [
       "C + 12*t**3"
      ]
     },
     "metadata": {},
     "output_type": "display_data"
    }
   ],
   "source": [
    "#given a(t) = 72t\n",
    "t, C = symbols('t, C', Real = True)\n",
    "a_t = 72*t\n",
    "#display(a_t)\n",
    "V_t = integrate(a_t,t) \n",
    "S_t = integrate(V_t,t)\n",
    "print(\"the Position function of the first 3 seconds is: \")\n",
    "display(S_t + C) #C = 0\n"
   ]
  },
  {
   "cell_type": "markdown",
   "id": "DlOTs45H8sd8",
   "metadata": {
    "id": "DlOTs45H8sd8"
   },
   "source": [
    "#### 3b"
   ]
  },
  {
   "cell_type": "code",
   "execution_count": 142,
   "id": "EaYTJ0Ie8sk1",
   "metadata": {
    "id": "EaYTJ0Ie8sk1"
   },
   "outputs": [
    {
     "name": "stdout",
     "output_type": "stream",
     "text": [
      "S(3)= 324\n",
      "V(3)= 324\n"
     ]
    }
   ],
   "source": [
    "S2 = S_t.subs(t,3) \n",
    "V2 = V_t.subs(t,3)\n",
    "print(\"S(3)= \" + str(S2))\n",
    "print(\"V(3)= \" + str(V2))\n"
   ]
  },
  {
   "cell_type": "markdown",
   "id": "E60MD0jE8sq0",
   "metadata": {
    "id": "E60MD0jE8sq0"
   },
   "source": [
    "#### 3c"
   ]
  },
  {
   "cell_type": "code",
   "execution_count": 132,
   "id": "HYXYL_c98sxd",
   "metadata": {
    "id": "HYXYL_c98sxd"
   },
   "outputs": [
    {
     "name": "stdout",
     "output_type": "stream",
     "text": [
      "Equation: \n"
     ]
    },
    {
     "data": {
      "text/latex": [
       "$\\displaystyle - 16 t^{2} + 420 t - 792$"
      ],
      "text/plain": [
       "-16*t**2 + 420*t - 792"
      ]
     },
     "metadata": {},
     "output_type": "display_data"
    },
    {
     "name": "stdout",
     "output_type": "stream",
     "text": [
      "positions from 3 to 20 seconds: \n",
      "[324, 632, 908, 1152, 1364, 1544, 1692, 1808, 1892, 1944, 1964, 1952, 1908, 1832, 1724, 1584, 1412, 1208]\n"
     ]
    }
   ],
   "source": [
    "C = symbols('C' , real = True)\n",
    "a_new= -32\n",
    "V3 = integrate(a_new,t) \n",
    "C3 = V3.subs(t,3) - V2\n",
    "S3 = integrate(V3,t) - C3.subs(t,3)*t\n",
    "C3_temp = S3.subs(t,3)\n",
    "S3 = S3 + (V2 - C3_temp )\n",
    "print(\"Equation: \")\n",
    "display(S3)\n",
    "\n",
    "positions = []\n",
    "for i in range(3,21):\n",
    "        positions.append(S3.subs(t,i))\n",
    "\n",
    "print(\"positions from 3 to 20 seconds: \")\n",
    "print(positions)\n"
   ]
  },
  {
   "cell_type": "markdown",
   "id": "UDI42fSj8s4F",
   "metadata": {
    "id": "UDI42fSj8s4F"
   },
   "source": [
    "#### 3d"
   ]
  },
  {
   "cell_type": "code",
   "execution_count": 139,
   "id": "XAtcNI-68s-V",
   "metadata": {
    "id": "XAtcNI-68s-V"
   },
   "outputs": [
    {
     "name": "stdout",
     "output_type": "stream",
     "text": [
      "V(20) : -220\n",
      "S(20) : 1208\n"
     ]
    }
   ],
   "source": [
    "V4 = -32*t + 420\n",
    "V4 = V4.subs(t,20)\n",
    "print(\"V(20) : \" + str(V4))\n",
    "S4 = S3.subs(t,20)\n",
    "print(\"S(20) : \" + str(S4))\n",
    "\n"
   ]
  },
  {
   "cell_type": "markdown",
   "id": "B08Zkhnw8tps",
   "metadata": {
    "id": "B08Zkhnw8tps"
   },
   "source": [
    "#### 3e"
   ]
  },
  {
   "cell_type": "code",
   "execution_count": 177,
   "id": "zmGdNcFC8twd",
   "metadata": {
    "id": "zmGdNcFC8twd"
   },
   "outputs": [
    {
     "name": "stdout",
     "output_type": "stream",
     "text": [
      "positions from 20 to 26: \n",
      "1208 1005 836 701 600 533 500\n"
     ]
    }
   ],
   "source": [
    "#s(26)\n",
    "#v(26)\n",
    "#a(26) = -18\n",
    "#rate of change:\n",
    "\n",
    "rate = round((-18 + 220)/(26-20))\n",
    "a3 = integrate(rate,t)\n",
    "a3 = V4 - a3.subs(t,20)\n",
    "a3 = integrate(rate,t) + a3\n",
    "S5 = integrate(a3,t)\n",
    "S5 = S4 -S5.subs(t,20)\n",
    "S5 = integrate(a3,t)\n",
    "temp = (S4 -S5.subs(t,20))\n",
    "S5 += temp\n",
    "positions2 = []\n",
    "\n",
    "for i in range(20,27):\n",
    "    positions2.append(S5.subs(t,i))\n",
    "print(\"positions from 20 to 26: \")\n",
    "print(*positions2)"
   ]
  },
  {
   "cell_type": "markdown",
   "id": "sVOwFX3A8t41",
   "metadata": {
    "id": "sVOwFX3A8t41"
   },
   "source": [
    "#### 3f"
   ]
  },
  {
   "cell_type": "code",
   "execution_count": 184,
   "id": "ECCK38oq8t-9",
   "metadata": {
    "id": "ECCK38oq8t-9"
   },
   "outputs": [
    {
     "name": "stdout",
     "output_type": "stream",
     "text": [
      "V(26): -18\n",
      "S(26): 500\n"
     ]
    }
   ],
   "source": [
    "#a(26) = -18\n",
    "V5 = -18\n",
    "print(\"V(26): \" + str(V5))\n",
    "S5 = S5.subs(t,26)\n",
    "print(\"S(26): \" + str(S5))"
   ]
  },
  {
   "cell_type": "markdown",
   "id": "JUkZZZkO8uEM",
   "metadata": {
    "id": "JUkZZZkO8uEM"
   },
   "source": [
    "#### 3g"
   ]
  },
  {
   "cell_type": "code",
   "execution_count": 192,
   "id": "SMLd17xR8uJl",
   "metadata": {
    "id": "SMLd17xR8uJl"
   },
   "outputs": [
    {
     "name": "stdout",
     "output_type": "stream",
     "text": [
      "position function:\n"
     ]
    },
    {
     "data": {
      "text/latex": [
       "$\\displaystyle 968 - 18 t$"
      ],
      "text/plain": [
       "968 - 18*t"
      ]
     },
     "metadata": {},
     "output_type": "display_data"
    }
   ],
   "source": [
    "S6 = integrate(V5,t)\n",
    "Temp_S6 = S6.subs(t,26)\n",
    "S6 += 500 -Temp_S6\n",
    "print(\"position function:\")\n",
    "display(S6)"
   ]
  },
  {
   "cell_type": "markdown",
   "id": "Z6SJ6Ryw8uOk",
   "metadata": {
    "id": "Z6SJ6Ryw8uOk"
   },
   "source": [
    "#### 3h"
   ]
  },
  {
   "cell_type": "code",
   "execution_count": 194,
   "id": "JXJj1TYY8uTM",
   "metadata": {
    "id": "JXJj1TYY8uTM"
   },
   "outputs": [
    {
     "data": {
      "image/png": "[encoded data removed]",
      "text/plain": [
       "<Figure size 640x480 with 1 Axes>"
      ]
     },
     "metadata": {},
     "output_type": "display_data"
    }
   ],
   "source": [
    "P1 = plot(S6,(t,0,50))"
   ]
  },
  {
   "cell_type": "code",
   "execution_count": null,
   "id": "eaaddd9e",
   "metadata": {},
   "outputs": [],
   "source": []
  }
 ],
 "metadata": {
  "colab": {
   "provenance": [
    {
     "file_id": "1sdqFHr7OZkOfZYmu7TXNx3UVH4W-VZVt",
     "timestamp": 1674438958218
    }
   ]
  },
  "kernelspec": {
   "display_name": "Python 3 (ipykernel)",
   "language": "python",
   "name": "python3"
  },
  "language_info": {
   "codemirror_mode": {
    "name": "ipython",
    "version": 3
   },
   "file_extension": ".py",
   "mimetype": "text/x-python",
   "name": "python",
   "nbconvert_exporter": "python",
   "pygments_lexer": "ipython3",
   "version": "3.10.6"
  }
 },
 "nbformat": 4,
 "nbformat_minor": 5
}
