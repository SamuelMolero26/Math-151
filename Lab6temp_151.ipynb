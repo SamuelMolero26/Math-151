{
 "cells": [
  {
   "cell_type": "markdown",
   "id": "20c00fa5",
   "metadata": {
    "id": "20c00fa5"
   },
   "source": [
    "## MATH 151 Lab  6"
   ]
  },
  {
   "cell_type": "markdown",
   "id": "7c243ef1",
   "metadata": {
    "id": "7c243ef1"
   },
   "source": [
    "Put team members' names and section number here."
   ]
  },
  {
   "cell_type": "code",
   "execution_count": 2,
   "id": "cf836732",
   "metadata": {
    "id": "cf836732"
   },
   "outputs": [],
   "source": [
    "from sympy import *\n",
    "from sympy.plotting import (plot,plot_parametric)"
   ]
  },
  {
   "cell_type": "markdown",
   "id": "3169990f",
   "metadata": {
    "id": "3169990f"
   },
   "source": [
    "### Question 1"
   ]
  },
  {
   "cell_type": "markdown",
   "id": "f0561a86",
   "metadata": {
    "id": "f0561a86"
   },
   "source": [
    "#### 1a"
   ]
  },
  {
   "cell_type": "code",
   "execution_count": 29,
   "id": "cbfab3f6",
   "metadata": {
    "id": "cbfab3f6"
   },
   "outputs": [
    {
     "data": {
      "text/latex": [
       "$\\displaystyle - \\frac{\\sqrt{3}}{e^{- \\frac{1}{2} + \\frac{\\sqrt{3}}{2}}}$"
      ],
      "text/plain": [
       "-sqrt(3)*exp(1/2 - sqrt(3)/2)"
      ]
     },
     "metadata": {},
     "output_type": "display_data"
    },
    {
     "name": "stdout",
     "output_type": "stream",
     "text": [
      "Decimal format\n"
     ]
    },
    {
     "data": {
      "text/latex": [
       "$\\displaystyle 4.50439027907227 - 1.20115157270342 x$"
      ],
      "text/plain": [
       "4.50439027907227 - 1.20115157270342*x"
      ]
     },
     "metadata": {},
     "output_type": "display_data"
    },
    {
     "name": "stdout",
     "output_type": "stream",
     "text": [
      "exact Format:\n"
     ]
    },
    {
     "data": {
      "text/latex": [
       "$\\displaystyle - \\frac{\\sqrt{3} \\left(x - e^{\\frac{\\sqrt{3}}{2}}\\right)}{e^{- \\frac{1}{2} + \\frac{\\sqrt{3}}{2}}} + e^{\\frac{1}{2}}$"
      ],
      "text/plain": [
       "-sqrt(3)*(x - exp(sqrt(3)/2))*exp(1/2 - sqrt(3)/2) + exp(1/2)"
      ]
     },
     "metadata": {},
     "output_type": "display_data"
    }
   ],
   "source": [
    "#start code here\n",
    "t = symbols('t')\n",
    "x = symbols('x')\n",
    "y = symbols('y')\n",
    "\n",
    "r1 = E**sin(t)\n",
    "r2 = E**cos(t)\n",
    "r1_derv = diff(r1)\n",
    "r2_derv = diff(r2)\n",
    "\n",
    "slope = simplify(r2_derv/r1_derv)\n",
    "slope = slope.subs(t,pi/3)\n",
    "display(slope)\n",
    "\n",
    "x1 = r1.subs(t,pi/3)\n",
    "y1 = r2.subs(t,pi/3)\n",
    "display\n",
    "\n",
    "equation = slope * (x - x1) + y1\n",
    "\n",
    "\n",
    "print(\"Decimal format\")\n",
    "display((equation).evalf())\n",
    "print(\"exact Format:\")\n",
    "# equation2 = equation2.subs(x,pi/3)\n",
    "# display(equation2.evalf())\n",
    "\n",
    "display(equation)"
   ]
  },
  {
   "cell_type": "markdown",
   "id": "efdd616f",
   "metadata": {
    "id": "efdd616f"
   },
   "source": [
    "#### 1b"
   ]
  },
  {
   "cell_type": "code",
   "execution_count": 37,
   "id": "6fd5ac31",
   "metadata": {
    "id": "6fd5ac31"
   },
   "outputs": [
    {
     "name": "stdout",
     "output_type": "stream",
     "text": [
      "Vertical:\n"
     ]
    },
    {
     "data": {
      "text/latex": [
       "$\\displaystyle \\frac{\\pi}{2}$"
      ],
      "text/plain": [
       "pi/2"
      ]
     },
     "metadata": {},
     "output_type": "display_data"
    },
    {
     "data": {
      "text/latex": [
       "$\\displaystyle \\frac{3 \\pi}{2}$"
      ],
      "text/plain": [
       "3*pi/2"
      ]
     },
     "metadata": {},
     "output_type": "display_data"
    },
    {
     "name": "stdout",
     "output_type": "stream",
     "text": [
      "Horizontal: \n"
     ]
    },
    {
     "data": {
      "text/latex": [
       "$\\displaystyle 0$"
      ],
      "text/plain": [
       "0"
      ]
     },
     "metadata": {},
     "output_type": "display_data"
    },
    {
     "data": {
      "text/latex": [
       "$\\displaystyle \\pi$"
      ],
      "text/plain": [
       "pi"
      ]
     },
     "metadata": {},
     "output_type": "display_data"
    }
   ],
   "source": [
    "#start code here\\\n",
    "slope2 = r1_derv\n",
    "print(\"Vertical:\")\n",
    "vertical = solve(slope2.subs(x,0))\n",
    "display(*vertical)\n",
    "print(\"Horizontal: \")\n",
    "slope2 = r2_derv\n",
    "horizontal = solve(slope2.subs(x,0))\n",
    "display(*horizontal)"
   ]
  },
  {
   "cell_type": "markdown",
   "id": "cZ-nv2vp-gy_",
   "metadata": {
    "id": "cZ-nv2vp-gy_"
   },
   "source": [
    "#### 1c"
   ]
  },
  {
   "cell_type": "code",
   "execution_count": 59,
   "id": "iYKj3Bmj-gVJ",
   "metadata": {
    "id": "iYKj3Bmj-gVJ"
   },
   "outputs": [
    {
     "data": {
      "image/png": "[encoded data removed]",
      "text/plain": [
       "<Figure size 640x480 with 1 Axes>"
      ]
     },
     "metadata": {},
     "output_type": "display_data"
    }
   ],
   "source": [
    "p1  = plot(equation,(x,pi,2*pi),show=False)\n",
    "x1 = horizontal[0]\n",
    "y1 = horizontal[1]\n",
    "equation2 = slope * (x - x1) + y1\n",
    "x1 = vertical[0]\n",
    "y1 = horizontal[1]\n",
    "equation3 = slope * (x - x1) + y1\n",
    "p2 = plot(equation2,(x,pi,2*pi),show=False)\n",
    "p3 = plot(equation3,(x,pi,2*pi),show = False)\n",
    "p1.extend(p2)\n",
    "p1.extend(p3)\n",
    "p1.show()"
   ]
  },
  {
   "cell_type": "markdown",
   "id": "8b00f000",
   "metadata": {
    "id": "8b00f000"
   },
   "source": [
    "### Question 2"
   ]
  },
  {
   "cell_type": "markdown",
   "id": "bacdc1db",
   "metadata": {
    "id": "bacdc1db"
   },
   "source": [
    "#### 2a"
   ]
  },
  {
   "cell_type": "code",
   "execution_count": 117,
   "id": "be2f2c71",
   "metadata": {
    "id": "be2f2c71"
   },
   "outputs": [
    {
     "data": {
      "text/latex": [
       "$\\displaystyle \\frac{t \\left(t^{3} - 2\\right)}{2 t^{3} - 1}$"
      ],
      "text/plain": [
       "t*(t**3 - 2)/(2*t**3 - 1)"
      ]
     },
     "metadata": {},
     "output_type": "display_data"
    }
   ],
   "source": [
    "#start code here\n",
    "t = symbols('t',real=True)\n",
    "x1 = (3 * t)/ (1 + t ** 3)\n",
    "y1 = (3 * t**2) / (1 + t ** 3)\n",
    "dx = diff(x1)\n",
    "dy = diff(y1)\n",
    "x = symbols('x')\n",
    "\n",
    "dy_dx = simplify(dy/dx)\n",
    "display(dy_dx)\n"
   ]
  },
  {
   "cell_type": "markdown",
   "id": "23bc68a6",
   "metadata": {
    "id": "23bc68a6"
   },
   "source": [
    "#### 2b"
   ]
  },
  {
   "cell_type": "code",
   "execution_count": null,
   "id": "357bbf0f",
   "metadata": {
    "id": "357bbf0f"
   },
   "outputs": [],
   "source": [
    "#start code here\n",
    "vertical = "
   ]
  },
  {
   "cell_type": "markdown",
   "id": "Y-UU7VcEOPSc",
   "metadata": {
    "id": "Y-UU7VcEOPSc"
   },
   "source": [
    "#### 2c"
   ]
  },
  {
   "cell_type": "code",
   "execution_count": null,
   "id": "rMpWKB2yOPY9",
   "metadata": {
    "id": "rMpWKB2yOPY9"
   },
   "outputs": [],
   "source": []
  },
  {
   "cell_type": "markdown",
   "id": "1fb8b9b8",
   "metadata": {
    "id": "1fb8b9b8"
   },
   "source": [
    "### Question 3"
   ]
  },
  {
   "cell_type": "markdown",
   "id": "ccffd0d0",
   "metadata": {
    "id": "ccffd0d0"
   },
   "source": [
    "#### 3a"
   ]
  },
  {
   "cell_type": "code",
   "execution_count": 13,
   "id": "9ebb9309",
   "metadata": {
    "id": "9ebb9309"
   },
   "outputs": [
    {
     "name": "stdout",
     "output_type": "stream",
     "text": [
      "y0:  56.5685424949238\n"
     ]
    }
   ],
   "source": [
    "#start code here\n",
    "k = symbols('k',real = True)\n",
    "y0,t = symbols('y0, t')\n",
    "y = y0*E**(k*t)\n",
    "y = y.subs(t,(6-2))\n",
    "y = ln(y.subs(y0,1))\n",
    "\n",
    "total = 20000/400\n",
    "y = (ln(total) / y.subs(k,1))\n",
    "k = y\n",
    "y_initial = (400 /((E**(y*2))))\n",
    "print(\"y0: \",y_initial)"
   ]
  },
  {
   "cell_type": "markdown",
   "id": "Lc8U63NG1Ehe",
   "metadata": {
    "id": "Lc8U63NG1Ehe"
   },
   "source": [
    "#### 3b"
   ]
  },
  {
   "cell_type": "code",
   "execution_count": 25,
   "id": "6wksKoYT1EnO",
   "metadata": {
    "id": "6wksKoYT1EnO"
   },
   "outputs": [
    {
     "name": "stdout",
     "output_type": "stream",
     "text": [
      "t: 6\n"
     ]
    }
   ],
   "source": [
    "\n",
    "left_side = ln(20000/y_initial)\n",
    "y = ln(E**(k*t))\n",
    "t = left_side / k\n",
    "print('t:',t.round())"
   ]
  },
  {
   "cell_type": "markdown",
   "id": "s15xDpLe1Etf",
   "metadata": {
    "id": "s15xDpLe1Etf"
   },
   "source": [
    "#### 3c"
   ]
  },
  {
   "cell_type": "code",
   "execution_count": 42,
   "id": "LRthWSLy1Ezn",
   "metadata": {
    "id": "LRthWSLy1Ezn"
   },
   "outputs": [
    {
     "name": "stdout",
     "output_type": "stream",
     "text": [
      "k after 4 hours 0.978005751357036\n",
      "Initial 2 hours BEFORE: 56.5685424949238\n",
      "Both values are the same as in part a, since in order to get such reuslts \n",
      "the procedure is similar\n"
     ]
    }
   ],
   "source": [
    "k = symbols('k')\n",
    "y = 400*E**(k*4)\n",
    "y = ln(20000/400) / 4\n",
    "k1 = y\n",
    "print('k after 4 hours',k1)\n",
    "initial1 = (400 /((E**(y*2))))\n",
    "print(\"Initial 2 hours BEFORE:\",initial1)\n",
    "\n",
    "print(\"Both values are the same as in part a, since in order to get such reuslts \\nthe procedure is similar\")"
   ]
  },
  {
   "cell_type": "code",
   "execution_count": null,
   "id": "bd1f7958",
   "metadata": {},
   "outputs": [],
   "source": []
  }
 ],
 "metadata": {
  "colab": {
   "provenance": [
    {
     "file_id": "1sdqFHr7OZkOfZYmu7TXNx3UVH4W-VZVt",
     "timestamp": 1674438958218
    }
   ]
  },
  "kernelspec": {
   "display_name": "Python 3 (ipykernel)",
   "language": "python",
   "name": "python3"
  },
  "language_info": {
   "codemirror_mode": {
    "name": "ipython",
    "version": 3
   },
   "file_extension": ".py",
   "mimetype": "text/x-python",
   "name": "python",
   "nbconvert_exporter": "python",
   "pygments_lexer": "ipython3",
   "version": "3.10.6"
  }
 },
 "nbformat": 4,
 "nbformat_minor": 5
}
