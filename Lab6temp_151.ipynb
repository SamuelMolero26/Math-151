{
 "cells": [
  {
   "cell_type": "markdown",
   "id": "20c00fa5",
   "metadata": {
    "id": "20c00fa5"
   },
   "source": [
    "## MATH 151 Lab  6"
   ]
  },
  {
   "cell_type": "markdown",
   "id": "7c243ef1",
   "metadata": {
    "id": "7c243ef1"
   },
   "source": [
    "Samuel Molero, William Meerbot, Dylan Yi"
   ]
  },
  {
   "cell_type": "code",
   "execution_count": 2,
   "id": "cf836732",
   "metadata": {
    "id": "cf836732"
   },
   "outputs": [],
   "source": [
    "from sympy import *\n",
    "from sympy.plotting import (plot,plot_parametric)"
   ]
  },
  {
   "cell_type": "markdown",
   "id": "3169990f",
   "metadata": {
    "id": "3169990f"
   },
   "source": [
    "### Question 1"
   ]
  },
  {
   "cell_type": "markdown",
   "id": "f0561a86",
   "metadata": {
    "id": "f0561a86"
   },
   "source": [
    "#### 1a"
   ]
  },
  {
   "cell_type": "code",
   "execution_count": 47,
   "id": "cbfab3f6",
   "metadata": {
    "id": "cbfab3f6"
   },
   "outputs": [
    {
     "data": {
      "text/latex": [
       "$\\displaystyle \\frac{t e^{\\frac{\\sqrt{3}}{2}}}{2} + e^{\\frac{\\sqrt{3}}{2}}$"
      ],
      "text/plain": [
       "t*exp(sqrt(3)/2)/2 + exp(sqrt(3)/2)"
      ]
     },
     "metadata": {},
     "output_type": "display_data"
    },
    {
     "name": "stdout",
     "output_type": "stream",
     "text": [
      "decimal form: \n"
     ]
    },
    {
     "data": {
      "text/latex": [
       "$\\displaystyle 1.18872133761808 t + 2.37744267523616$"
      ],
      "text/plain": [
       "1.18872133761808*t + 2.37744267523616"
      ]
     },
     "metadata": {},
     "output_type": "display_data"
    },
    {
     "name": "stdout",
     "output_type": "stream",
     "text": [
      "decimal form: \n"
     ]
    },
    {
     "data": {
      "text/latex": [
       "$\\displaystyle - \\frac{\\sqrt{3} t e^{\\frac{1}{2}}}{2} + e^{\\frac{1}{2}}$"
      ],
      "text/plain": [
       "-sqrt(3)*t*exp(1/2)/2 + exp(1/2)"
      ]
     },
     "metadata": {},
     "output_type": "display_data"
    },
    {
     "data": {
      "text/latex": [
       "$\\displaystyle 1.64872127070013 - 1.42783450418607 t$"
      ],
      "text/plain": [
       "1.64872127070013 - 1.42783450418607*t"
      ]
     },
     "metadata": {},
     "output_type": "display_data"
    }
   ],
   "source": [
    "#start code here\n",
    "\n",
    "t = symbols('t', rea = True)\n",
    "r1 = E**sin(t)\n",
    "r2 = E**cos(t)\n",
    "\n",
    "dxdt = diff(r1,t)\n",
    "dydt = diff(r2,t)\n",
    "\n",
    "vx = dxdt.subs(t,pi/3)\n",
    "vy = dydt.subs(t,pi/3)\n",
    "\n",
    "r0x = r1.subs(t,pi/3)\n",
    "r0y = r2.subs(t,pi/3)\n",
    "display(vx*t+r0x)\n",
    "print(\"decimal form: \")\n",
    "display((vx*t+r0x).evalf())\n",
    "print(\"decimal form: \")\n",
    "display(vy*t+r0y)\n",
    "display((vy*t+r0y).evalf())\n"
   ]
  },
  {
   "cell_type": "markdown",
   "id": "efdd616f",
   "metadata": {
    "id": "efdd616f"
   },
   "source": [
    "#### 1b"
   ]
  },
  {
   "cell_type": "code",
   "execution_count": 70,
   "id": "6fd5ac31",
   "metadata": {
    "id": "6fd5ac31"
   },
   "outputs": [
    {
     "name": "stdout",
     "output_type": "stream",
     "text": [
      "vertical tangent at x =\n"
     ]
    },
    {
     "data": {
      "text/latex": [
       "$\\displaystyle e$"
      ],
      "text/plain": [
       "E"
      ]
     },
     "metadata": {},
     "output_type": "display_data"
    },
    {
     "name": "stdout",
     "output_type": "stream",
     "text": [
      "horizontal tanget at y =\n"
     ]
    },
    {
     "data": {
      "text/latex": [
       "$\\displaystyle 1$"
      ],
      "text/plain": [
       "1"
      ]
     },
     "metadata": {},
     "output_type": "display_data"
    }
   ],
   "source": [
    "#start code here\n",
    "vertical = solve(dxdt,t)[0]\n",
    "horizontal = solve(dydt,t)[0]\n",
    "xval = r1.subs(t,vertical)\n",
    "print(\"vertical tangent at x =\")\n",
    "display(xval)\n",
    "yval = r2.subs(t,vertical)\n",
    "print(\"horizontal tanget at y =\")\n",
    "display(yval)"
   ]
  },
  {
   "cell_type": "markdown",
   "id": "cZ-nv2vp-gy_",
   "metadata": {
    "id": "cZ-nv2vp-gy_"
   },
   "source": [
    "#### 1c"
   ]
  },
  {
   "cell_type": "code",
   "execution_count": null,
   "id": "iYKj3Bmj-gVJ",
   "metadata": {
    "id": "iYKj3Bmj-gVJ"
   },
   "outputs": [],
   "source": []
  },
  {
   "cell_type": "markdown",
   "id": "8b00f000",
   "metadata": {
    "id": "8b00f000"
   },
   "source": [
    "### Question 2"
   ]
  },
  {
   "cell_type": "markdown",
   "id": "bacdc1db",
   "metadata": {
    "id": "bacdc1db"
   },
   "source": [
    "#### 2a"
   ]
  },
  {
   "cell_type": "code",
   "execution_count": 28,
   "id": "be2f2c71",
   "metadata": {
    "id": "be2f2c71"
   },
   "outputs": [
    {
     "name": "stdout",
     "output_type": "stream",
     "text": [
      "the quation is y - 2/3 =  1.25 *(x-4/3)\n"
     ]
    }
   ],
   "source": [
    "#start code here\n",
    "x_equation = (3*t) / (1+t**3)\n",
    "y_equation = (3*t**2) / (1 + t**3) \n",
    "\n",
    "dxdt = diff(x_equation)\n",
    "dydt = diff(y_equation)\n",
    "\n",
    "dydx = dydt / dxdt\n",
    "\n",
    "solv_set = solve([x_equation-4/3,y_equation-2/3],t)\n",
    "solv = solv_set[0][0]\n",
    "\n",
    "m = dydx.subs(t,solv)\n",
    "print(\"the quation is y - 2/3 = \", round(m,2), \"*(x-4/3)\")"
   ]
  },
  {
   "cell_type": "markdown",
   "id": "23bc68a6",
   "metadata": {
    "id": "23bc68a6"
   },
   "source": [
    "#### 2b"
   ]
  },
  {
   "cell_type": "code",
   "execution_count": 33,
   "id": "357bbf0f",
   "metadata": {
    "id": "357bbf0f"
   },
   "outputs": [
    {
     "name": "stdout",
     "output_type": "stream",
     "text": [
      "horizontal tanget at: \n"
     ]
    },
    {
     "data": {
      "text/latex": [
       "$\\displaystyle \\sqrt[3]{2}$"
      ],
      "text/plain": [
       "2**(1/3)"
      ]
     },
     "metadata": {},
     "output_type": "display_data"
    },
    {
     "name": "stdout",
     "output_type": "stream",
     "text": [
      "vertical tangent at: \n"
     ]
    },
    {
     "data": {
      "text/latex": [
       "$\\displaystyle 2^{\\frac{2}{3}}$"
      ],
      "text/plain": [
       "2**(2/3)"
      ]
     },
     "metadata": {},
     "output_type": "display_data"
    }
   ],
   "source": [
    "#start code here\n",
    "\n",
    "solv_set = solve(dxdt,t)\n",
    "\n",
    "t_value = solv_set[0]\n",
    "x_value = x_equation.subs(t,t_value)\n",
    "y_value = y_equation.subs(t,t_value)\n",
    "print(\"horizontal tanget at: \")\n",
    "display(y_value)\n",
    "print(\"vertical tangent at: \")\n",
    "display(x_value)\n"
   ]
  },
  {
   "cell_type": "markdown",
   "id": "Y-UU7VcEOPSc",
   "metadata": {
    "id": "Y-UU7VcEOPSc"
   },
   "source": [
    "#### 2c"
   ]
  },
  {
   "cell_type": "code",
   "execution_count": 36,
   "id": "rMpWKB2yOPY9",
   "metadata": {
    "id": "rMpWKB2yOPY9"
   },
   "outputs": [
    {
     "data": {
      "image/png": "[encoded data removed]",
      "text/plain": [
       "<Figure size 640x480 with 1 Axes>"
      ]
     },
     "metadata": {},
     "output_type": "display_data"
    }
   ],
   "source": [
    "x = symbols('x')\n",
    "p = plot_parametric((x_equation,y_equation,(t,-100,-1.5)),(x_equation,y_equation,(t,-0.5,100)),show = False)\n",
    "line = 1.25*(x-(4/3)) + 2/3\n",
    "t_line = plot(line,(x,-1,2.5), show = False)\n",
    "p.extend(t_line)\n",
    "p.show()\n"
   ]
  },
  {
   "cell_type": "markdown",
   "id": "1fb8b9b8",
   "metadata": {
    "id": "1fb8b9b8"
   },
   "source": [
    "### Question 3"
   ]
  },
  {
   "cell_type": "markdown",
   "id": "ccffd0d0",
   "metadata": {
    "id": "ccffd0d0"
   },
   "source": [
    "#### 3a"
   ]
  },
  {
   "cell_type": "code",
   "execution_count": 37,
   "id": "9ebb9309",
   "metadata": {
    "id": "9ebb9309"
   },
   "outputs": [
    {
     "name": "stdout",
     "output_type": "stream",
     "text": [
      "y0:  56.5685424949238\n"
     ]
    }
   ],
   "source": [
    "#start code here\n",
    "k = symbols('k',real = True)\n",
    "y0,t = symbols('y0, t')\n",
    "y = y0*E**(k*t)\n",
    "y = y.subs(t,(6-2))\n",
    "y = ln(y.subs(y0,1))\n",
    "\n",
    "total = 20000/400\n",
    "y = (ln(total) / y.subs(k,1))\n",
    "k = y\n",
    "y_initial = (400 /((E**(y*2))))\n",
    "print(\"y0: \",y_initial)"
   ]
  },
  {
   "cell_type": "markdown",
   "id": "Lc8U63NG1Ehe",
   "metadata": {
    "id": "Lc8U63NG1Ehe"
   },
   "source": [
    "#### 3b"
   ]
  },
  {
   "cell_type": "code",
   "execution_count": 38,
   "id": "6wksKoYT1EnO",
   "metadata": {
    "id": "6wksKoYT1EnO"
   },
   "outputs": [
    {
     "name": "stdout",
     "output_type": "stream",
     "text": [
      "t: 6\n"
     ]
    }
   ],
   "source": [
    "\n",
    "left_side = ln(20000/y_initial)\n",
    "y = ln(E**(k*t))\n",
    "t = left_side / k\n",
    "print('t:',t.round())"
   ]
  },
  {
   "cell_type": "markdown",
   "id": "s15xDpLe1Etf",
   "metadata": {
    "id": "s15xDpLe1Etf"
   },
   "source": [
    "#### 3c"
   ]
  },
  {
   "cell_type": "code",
   "execution_count": 39,
   "id": "LRthWSLy1Ezn",
   "metadata": {
    "id": "LRthWSLy1Ezn"
   },
   "outputs": [
    {
     "name": "stdout",
     "output_type": "stream",
     "text": [
      "k after 4 hours 0.978005751357036\n",
      "Initial 2 hours BEFORE: 56.5685424949238\n",
      "Both values are the same as in part a, since in order to get such reuslts \n",
      "the procedure is similar\n"
     ]
    }
   ],
   "source": [
    "k = symbols('k')\n",
    "y = 400*E**(k*4)\n",
    "y = ln(20000/400) / 4\n",
    "k1 = y\n",
    "print('k after 4 hours',k1)\n",
    "initial1 = (400 /((E**(y*2))))\n",
    "print(\"Initial 2 hours BEFORE:\",initial1)\n",
    "\n",
    "print(\"Both values are the same as in part a, since in order to get such reuslts \\nthe procedure is similar\")"
   ]
  },
  {
   "cell_type": "code",
   "execution_count": null,
   "id": "bd1f7958",
   "metadata": {},
   "outputs": [],
   "source": []
  }
 ],
 "metadata": {
  "colab": {
   "provenance": [
    {
     "file_id": "1sdqFHr7OZkOfZYmu7TXNx3UVH4W-VZVt",
     "timestamp": 1674438958218
    }
   ]
  },
  "kernelspec": {
   "display_name": "Python 3 (ipykernel)",
   "language": "python",
   "name": "python3"
  },
  "language_info": {
   "codemirror_mode": {
    "name": "ipython",
    "version": 3
   },
   "file_extension": ".py",
   "mimetype": "text/x-python",
   "name": "python",
   "nbconvert_exporter": "python",
   "pygments_lexer": "ipython3",
   "version": "3.10.6"
  }
 },
 "nbformat": 4,
 "nbformat_minor": 5
}
