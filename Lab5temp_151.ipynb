{
 "cells": [
  {
   "cell_type": "markdown",
   "id": "20c00fa5",
   "metadata": {
    "id": "20c00fa5"
   },
   "source": [
    "## MATH 151 Lab  4"
   ]
  },
  {
   "cell_type": "markdown",
   "id": "7c243ef1",
   "metadata": {
    "id": "7c243ef1"
   },
   "source": [
    "Samuel Molero, Dylan Yi, and William Meerbot"
   ]
  },
  {
   "cell_type": "code",
   "execution_count": 18,
   "id": "cf836732",
   "metadata": {
    "id": "cf836732"
   },
   "outputs": [],
   "source": [
    "from sympy import *\n",
    "from sympy.plotting import (plot,plot_parametric)"
   ]
  },
  {
   "cell_type": "markdown",
   "id": "3169990f",
   "metadata": {
    "id": "3169990f"
   },
   "source": [
    "### Question 1"
   ]
  },
  {
   "cell_type": "markdown",
   "id": "f0561a86",
   "metadata": {
    "id": "f0561a86"
   },
   "source": [
    "#### 1a"
   ]
  },
  {
   "cell_type": "code",
   "execution_count": 4,
   "id": "cbfab3f6",
   "metadata": {
    "id": "cbfab3f6"
   },
   "outputs": [
    {
     "data": {
      "text/latex": [
       "$\\displaystyle -5$"
      ],
      "text/plain": [
       "-5"
      ]
     },
     "metadata": {},
     "output_type": "display_data"
    },
    {
     "data": {
      "text/latex": [
       "$\\displaystyle -4$"
      ],
      "text/plain": [
       "-4"
      ]
     },
     "metadata": {},
     "output_type": "display_data"
    }
   ],
   "source": [
    "#start code here\n",
    "y,x, r= symbols('y x r')\n",
    "dy = E**(r*x)\n",
    "#display(dy)\n",
    "dy1 = diff(dy,x)\n",
    "dy2 = diff(dy,x,2)\n",
    "# display(dy1)\n",
    "# display(dy2)\n",
    "\n",
    "a = dy2 + 9*dy1 + 20*dy\n",
    "display(*solve(a.subs(x,0),r))\n",
    "\n",
    "\n",
    "            \n"
   ]
  },
  {
   "cell_type": "markdown",
   "id": "efdd616f",
   "metadata": {
    "id": "efdd616f"
   },
   "source": [
    "#### 1b"
   ]
  },
  {
   "cell_type": "code",
   "execution_count": 5,
   "id": "6fd5ac31",
   "metadata": {
    "id": "6fd5ac31"
   },
   "outputs": [
    {
     "data": {
      "text/latex": [
       "$\\displaystyle -8 - 5 i$"
      ],
      "text/plain": [
       "-8 - 5*I"
      ]
     },
     "metadata": {},
     "output_type": "display_data"
    },
    {
     "data": {
      "text/latex": [
       "$\\displaystyle -8 + 5 i$"
      ],
      "text/plain": [
       "-8 + 5*I"
      ]
     },
     "metadata": {},
     "output_type": "display_data"
    }
   ],
   "source": [
    "#start code here\n",
    "b = dy2 + 16*dy1 + 89*dy\n",
    "# display(b)\n",
    "display(*solve(b.subs(x,0),r))\n"
   ]
  },
  {
   "cell_type": "markdown",
   "id": "cZ-nv2vp-gy_",
   "metadata": {
    "id": "cZ-nv2vp-gy_"
   },
   "source": [
    "#### 1c"
   ]
  },
  {
   "cell_type": "code",
   "execution_count": 6,
   "id": "iYKj3Bmj-gVJ",
   "metadata": {
    "id": "iYKj3Bmj-gVJ"
   },
   "outputs": [
    {
     "data": {
      "text/latex": [
       "$\\displaystyle 0$"
      ],
      "text/plain": [
       "0"
      ]
     },
     "metadata": {},
     "output_type": "display_data"
    },
    {
     "name": "stdout",
     "output_type": "stream",
     "text": [
      "As e is reaised to complex numbers the equation equals zero\n"
     ]
    }
   ],
   "source": [
    "\n",
    "dy = (E **(-8*x))*((cos(5*x)) + sin(5*x))\n",
    "#display(dy)\n",
    "dy1 = diff(dy,x)\n",
    "dy2 = diff(dy,x,2)\n",
    "# display(dy1)\n",
    "# display(dy2)\n",
    "c = dy2 + 16*(dy1) + 89*(dy)\n",
    "display(c.simplify())\n",
    "\n",
    "print('As e is reaised to complex numbers the equation equals zero')\n"
   ]
  },
  {
   "cell_type": "markdown",
   "id": "8b00f000",
   "metadata": {
    "id": "8b00f000"
   },
   "source": [
    "### Question 2"
   ]
  },
  {
   "cell_type": "markdown",
   "id": "bacdc1db",
   "metadata": {
    "id": "bacdc1db"
   },
   "source": [
    "#### 2a"
   ]
  },
  {
   "cell_type": "code",
   "execution_count": 8,
   "id": "be2f2c71",
   "metadata": {
    "id": "be2f2c71"
   },
   "outputs": [
    {
     "name": "stdout",
     "output_type": "stream",
     "text": [
      "dy/dx is (x**2 - 4*y)/(4*x - y**2)\n"
     ]
    },
    {
     "data": {
      "text/latex": [
       "$\\displaystyle \\frac{x^{2} - 4 y}{4 x - y^{2}}$"
      ],
      "text/plain": [
       "(x**2 - 4*y)/(4*x - y**2)"
      ]
     },
     "execution_count": 8,
     "metadata": {},
     "output_type": "execute_result"
    }
   ],
   "source": [
    "#start code here\n",
    "x,y = symbols ('x y')\n",
    "\n",
    "eq=x**3+y**3-12*x*y\n",
    "dydx=idiff(eq,y,x)\n",
    "print('dy/dx is',dydx)\n",
    "\n",
    "(x**2 - 4*y)/(4*x - y**2)\n",
    "\n"
   ]
  },
  {
   "cell_type": "markdown",
   "id": "23bc68a6",
   "metadata": {
    "id": "23bc68a6"
   },
   "source": [
    "#### 2b"
   ]
  },
  {
   "cell_type": "code",
   "execution_count": 9,
   "id": "357bbf0f",
   "metadata": {
    "id": "357bbf0f"
   },
   "outputs": [
    {
     "name": "stdout",
     "output_type": "stream",
     "text": [
      "The horizontal tangents are\n"
     ]
    },
    {
     "data": {
      "text/plain": [
       "(0, 0)"
      ]
     },
     "metadata": {},
     "output_type": "display_data"
    },
    {
     "data": {
      "text/plain": [
       "(4*2**(1/3), 4*2**(2/3))"
      ]
     },
     "metadata": {},
     "output_type": "display_data"
    }
   ],
   "source": [
    "#start code here\n",
    "LHS = x**3+y**3\n",
    "RHS= 12*x*y\n",
    "htan=solve((-x**2+4*y,eq),[x,y])\n",
    "print('The horizontal tangents are',)\n",
    "display((htan[0]))\n",
    "display((htan[1]))"
   ]
  },
  {
   "cell_type": "markdown",
   "id": "Y-UU7VcEOPSc",
   "metadata": {
    "id": "Y-UU7VcEOPSc"
   },
   "source": [
    "#### 2c"
   ]
  },
  {
   "cell_type": "code",
   "execution_count": 10,
   "id": "rMpWKB2yOPY9",
   "metadata": {
    "id": "rMpWKB2yOPY9"
   },
   "outputs": [
    {
     "name": "stdout",
     "output_type": "stream",
     "text": [
      "The vertical tangents are\n"
     ]
    },
    {
     "data": {
      "text/plain": [
       "(0, 0)"
      ]
     },
     "metadata": {},
     "output_type": "display_data"
    },
    {
     "data": {
      "text/plain": [
       "(4*2**(2/3), 4*2**(1/3))"
      ]
     },
     "metadata": {},
     "output_type": "display_data"
    }
   ],
   "source": [
    "vtan =solve((-4*x+y**2,eq),[x,y])\n",
    "print('The vertical tangents are')\n",
    "display((vtan[0]))\n",
    "display((vtan[1]))"
   ]
  },
  {
   "cell_type": "markdown",
   "id": "WL6WzWP_a17V",
   "metadata": {
    "id": "WL6WzWP_a17V"
   },
   "source": [
    "#### 2d"
   ]
  },
  {
   "cell_type": "code",
   "execution_count": 11,
   "id": "NGy1_DAoa2D6",
   "metadata": {
    "id": "NGy1_DAoa2D6"
   },
   "outputs": [
    {
     "data": {
      "image/png": "[encoded data removed]",
      "text/plain": [
       "<Figure size 640x480 with 1 Axes>"
      ]
     },
     "metadata": {},
     "output_type": "display_data"
    }
   ],
   "source": [
    "t =symbols('t')\n",
    "pcurve=plot_implicit(eq,(x,-7.5,7.5),(y,-7.5,7.5),show=False)\n",
    "pvert=plot_parametric((0,t,(t,-7.5,7.5)),(4*2**(2/3),t,(t,-7.5,7.5)),show=False)\n",
    "phoriz=plot((0,(x,-7.5,7.5)),(4*2**(2/3),(x,-7.5,7.5)),show=False)\n",
    "pcurve.extend(pvert)\n",
    "pcurve.extend(phoriz)\n",
    "pcurve.show()\n"
   ]
  },
  {
   "cell_type": "markdown",
   "id": "1fb8b9b8",
   "metadata": {
    "id": "1fb8b9b8"
   },
   "source": [
    "### Question 3"
   ]
  },
  {
   "cell_type": "markdown",
   "id": "ccffd0d0",
   "metadata": {
    "id": "ccffd0d0"
   },
   "source": [
    "#### 3a"
   ]
  },
  {
   "cell_type": "code",
   "execution_count": 68,
   "id": "9ebb9309",
   "metadata": {
    "id": "9ebb9309"
   },
   "outputs": [
    {
     "data": {
      "text/latex": [
       "$\\displaystyle y \\left(2.0 x - 5.0 + \\frac{0.25}{1.0 x - 0.75} + \\frac{0.5}{x}\\right)$"
      ],
      "text/plain": [
       "y*(2.0*x - 5.0 + 0.25/(1.0*x - 0.75) + 0.5/x)"
      ]
     },
     "metadata": {},
     "output_type": "display_data"
    }
   ],
   "source": [
    "#start code here\n",
    "x = symbols('x')\n",
    "RHS  = expand(log((sqrt(x)*(E**(x**2 - 5*x)))*((4*x-3)**(1/4))))\n",
    "\n",
    "LHS = (log(y))\n",
    "dydx = idiff(LHS-RHS,y,x)\n",
    "display(apart(dydx/y)*y)\n",
    "#display(apart(dydx/y)*y)\n"
   ]
  },
  {
   "cell_type": "code",
   "execution_count": null,
   "id": "38bcb523",
   "metadata": {},
   "outputs": [],
   "source": []
  }
 ],
 "metadata": {
  "colab": {
   "provenance": [
    {
     "file_id": "1sdqFHr7OZkOfZYmu7TXNx3UVH4W-VZVt",
     "timestamp": 1674438958218
    }
   ]
  },
  "kernelspec": {
   "display_name": "Python 3 (ipykernel)",
   "language": "python",
   "name": "python3"
  },
  "language_info": {
   "codemirror_mode": {
    "name": "ipython",
    "version": 3
   },
   "file_extension": ".py",
   "mimetype": "text/x-python",
   "name": "python",
   "nbconvert_exporter": "python",
   "pygments_lexer": "ipython3",
   "version": "3.10.6"
  }
 },
 "nbformat": 4,
 "nbformat_minor": 5
}
