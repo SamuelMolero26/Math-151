{
 "cells": [
  {
   "cell_type": "markdown",
   "id": "20c00fa5",
   "metadata": {
    "id": "20c00fa5"
   },
   "source": [
    "## MATH 151 Lab  1"
   ]
  },
  {
   "cell_type": "markdown",
   "id": "7c243ef1",
   "metadata": {
    "id": "7c243ef1"
   },
   "source": [
    "Samuel Molero, William Meerbott, Dylan Yi. "
   ]
  },
  {
   "cell_type": "code",
   "execution_count": 2,
   "id": "cf836732",
   "metadata": {
    "id": "cf836732"
   },
   "outputs": [],
   "source": [
    "from sympy import *\n",
    "from sympy.plotting import (plot,plot_parametric)"
   ]
  },
  {
   "cell_type": "markdown",
   "id": "3169990f",
   "metadata": {
    "id": "3169990f"
   },
   "source": [
    "### Question 1"
   ]
  },
  {
   "cell_type": "markdown",
   "id": "f0561a86",
   "metadata": {
    "id": "f0561a86"
   },
   "source": [
    "#### 1a"
   ]
  },
  {
   "cell_type": "code",
   "execution_count": 16,
   "id": "cbfab3f6",
   "metadata": {
    "id": "cbfab3f6"
   },
   "outputs": [
    {
     "data": {
      "text/latex": [
       "$\\displaystyle 0.00170738011240392$"
      ],
      "text/plain": [
       "0.00170738011240392"
      ]
     },
     "metadata": {},
     "output_type": "display_data"
    }
   ],
   "source": [
    "display(((log(1.29 + 11.1))**5)/(29*(2026 + 2.4**3)))\n"
   ]
  },
  {
   "cell_type": "markdown",
   "id": "efdd616f",
   "metadata": {
    "id": "efdd616f"
   },
   "source": [
    "#### 1b"
   ]
  },
  {
   "cell_type": "code",
   "execution_count": 25,
   "id": "6fd5ac31",
   "metadata": {
    "id": "6fd5ac31"
   },
   "outputs": [
    {
     "name": "stdout",
     "output_type": "stream",
     "text": [
      "Aproximate answer:\n"
     ]
    },
    {
     "data": {
      "text/latex": [
       "$\\displaystyle - \\frac{\\sqrt{2}}{4} + \\frac{\\sqrt{6}}{4} + \\sqrt{3} + 2$"
      ],
      "text/plain": [
       "-sqrt(2)/4 + sqrt(6)/4 + sqrt(3) + 2"
      ]
     },
     "metadata": {},
     "output_type": "display_data"
    },
    {
     "name": "stdout",
     "output_type": "stream",
     "text": [
      "Exact answer: \n"
     ]
    },
    {
     "data": {
      "text/latex": [
       "$\\displaystyle 3.9908698526714$"
      ],
      "text/plain": [
       "3.99086985267140"
      ]
     },
     "metadata": {},
     "output_type": "display_data"
    }
   ],
   "source": [
    "problem = tan(105*(pi/180))*sec(pi)+sin(11*pi/12)\n",
    "print(\"Aproximate answer:\")\n",
    "display(problem.simplify())\n",
    "print(\"Exact answer: \")\n",
    "display(problem.evalf())"
   ]
  },
  {
   "cell_type": "markdown",
   "id": "8b00f000",
   "metadata": {
    "id": "8b00f000"
   },
   "source": [
    "### Question 2"
   ]
  },
  {
   "cell_type": "markdown",
   "id": "bacdc1db",
   "metadata": {
    "id": "bacdc1db"
   },
   "source": [
    "#### 2a"
   ]
  },
  {
   "cell_type": "code",
   "execution_count": 29,
   "id": "be2f2c71",
   "metadata": {
    "id": "be2f2c71"
   },
   "outputs": [
    {
     "name": "stdout",
     "output_type": "stream",
     "text": [
      "Side ab:\n"
     ]
    },
    {
     "data": {
      "text/latex": [
       "$\\displaystyle 2 \\sqrt{2}$"
      ],
      "text/plain": [
       "2*sqrt(2)"
      ]
     },
     "metadata": {},
     "output_type": "display_data"
    },
    {
     "name": "stdout",
     "output_type": "stream",
     "text": [
      "Side bc:\n"
     ]
    },
    {
     "data": {
      "text/latex": [
       "$\\displaystyle 2 \\sqrt{13}$"
      ],
      "text/plain": [
       "2*sqrt(13)"
      ]
     },
     "metadata": {},
     "output_type": "display_data"
    },
    {
     "name": "stdout",
     "output_type": "stream",
     "text": [
      "Side ac:\n"
     ]
    },
    {
     "data": {
      "text/latex": [
       "$\\displaystyle 2 \\sqrt{5}$"
      ],
      "text/plain": [
       "2*sqrt(5)"
      ]
     },
     "metadata": {},
     "output_type": "display_data"
    }
   ],
   "source": [
    "ax=1\n",
    "ay=3\n",
    "bx=-1\n",
    "by=1\n",
    "cx=3\n",
    "cy=7\n",
    "ab=sqrt(((ax-bx)**2)+((ay-by)**2))\n",
    "print(\"Side ab:\")\n",
    "display(ab)\n",
    "bc=sqrt(((bx-cx)**2)+((by-cy)**2))\n",
    "print(\"Side bc:\")\n",
    "display(bc)\n",
    "ac=sqrt(((ax-cx)**2)+((ay-cy)**2))\n",
    "print(\"Side ac:\")\n",
    "display(ac)\n"
   ]
  },
  {
   "cell_type": "markdown",
   "id": "23bc68a6",
   "metadata": {
    "id": "23bc68a6"
   },
   "source": [
    "#### 2b"
   ]
  },
  {
   "cell_type": "code",
   "execution_count": 47,
   "id": "357bbf0f",
   "metadata": {
    "id": "357bbf0f"
   },
   "outputs": [
    {
     "data": {
      "text/latex": [
       "$\\displaystyle -0.948683298050514$"
      ],
      "text/plain": [
       "-0.948683298050514"
      ]
     },
     "metadata": {},
     "output_type": "display_data"
    }
   ],
   "source": [
    "z = (ac**2+ab**2-bc**2)/(2*ac*ab)\n",
    "display(z.evalf())\n"
   ]
  },
  {
   "cell_type": "markdown",
   "id": "JuiwNS8ZXF6M",
   "metadata": {
    "id": "JuiwNS8ZXF6M"
   },
   "source": [
    "#### 2c"
   ]
  },
  {
   "cell_type": "code",
   "execution_count": 53,
   "id": "NxaLkKrFXGEd",
   "metadata": {
    "id": "NxaLkKrFXGEd"
   },
   "outputs": [
    {
     "data": {
      "text/latex": [
       "$\\displaystyle -0.948683298050514$"
      ],
      "text/plain": [
       "-0.948683298050514"
      ]
     },
     "metadata": {},
     "output_type": "display_data"
    }
   ],
   "source": [
    "a=sqrt(((-2)**2)+((-2)**2))\n",
    "b=sqrt((2**2)+(4**2))\n",
    "dot=(-2*2)+(4*-2)\n",
    "y= acos(dot/(a*b))\n",
    "display(cos(y).evalf())\n"
   ]
  },
  {
   "cell_type": "markdown",
   "id": "1fb8b9b8",
   "metadata": {
    "id": "1fb8b9b8"
   },
   "source": [
    "### Question 3"
   ]
  },
  {
   "cell_type": "markdown",
   "id": "ccffd0d0",
   "metadata": {
    "id": "ccffd0d0"
   },
   "source": [
    "#### 3a"
   ]
  },
  {
   "cell_type": "code",
   "execution_count": 34,
   "id": "9ebb9309",
   "metadata": {
    "id": "9ebb9309"
   },
   "outputs": [
    {
     "name": "stdout",
     "output_type": "stream",
     "text": [
      "If you pay monthly for 30 years the amount you will pay per month is 954.830590930908  If you pay  monthly for 15 years the amount you will pay per month is 1479.37585121852\n"
     ]
    }
   ],
   "source": [
    "P,r,t = symbols('P,r,t')\n",
    "P = 200000\n",
    "r = .04\n",
    "R = P*(((r/12)*(1+ r/12)**(12*t))/((1+r/12)**(12*t)-1))\n",
    "print('If you pay monthly for 30 years the amount you will pay per month is', R.subs(t, 30),\" If you pay  monthly for 15 years the amount you will pay per month is\",R.subs(t,15))"
   ]
  },
  {
   "cell_type": "markdown",
   "id": "baa2be1a",
   "metadata": {
    "id": "baa2be1a"
   },
   "source": [
    "#### 3b"
   ]
  },
  {
   "cell_type": "code",
   "execution_count": 35,
   "id": "6c67d267",
   "metadata": {
    "id": "6c67d267"
   },
   "outputs": [
    {
     "name": "stdout",
     "output_type": "stream",
     "text": [
      "The total amount for 30 years is 343738.8 The total amount for 15 years is 266288.4\n"
     ]
    }
   ],
   "source": [
    "Total30 = 954.83*(360)\n",
    "Total15 = 1479.38*180\n",
    "print('The total amount for 30 years is', Total30,\"The total amount for 15 years is\", Total15)"
   ]
  },
  {
   "cell_type": "code",
   "execution_count": null,
   "id": "f1f5e142",
   "metadata": {},
   "outputs": [],
   "source": []
  }
 ],
 "metadata": {
  "colab": {
   "provenance": [
    {
     "file_id": "1sdqFHr7OZkOfZYmu7TXNx3UVH4W-VZVt",
     "timestamp": 1674438958218
    }
   ]
  },
  "kernelspec": {
   "display_name": "Python 3 (ipykernel)",
   "language": "python",
   "name": "python3"
  },
  "language_info": {
   "codemirror_mode": {
    "name": "ipython",
    "version": 3
   },
   "file_extension": ".py",
   "mimetype": "text/x-python",
   "name": "python",
   "nbconvert_exporter": "python",
   "pygments_lexer": "ipython3",
   "version": "3.10.6"
  }
 },
 "nbformat": 4,
 "nbformat_minor": 5
}
